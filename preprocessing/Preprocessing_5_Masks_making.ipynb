{
 "cells": [
  {
   "cell_type": "code",
   "execution_count": 1,
   "metadata": {},
   "outputs": [],
   "source": [
    "import numpy as np\n",
    "from matplotlib import pyplot as plt\n",
    "import cv2\n",
    "import io"
   ]
  },
  {
   "cell_type": "markdown",
   "metadata": {},
   "source": [
    "The RGB values of the original classification (the 23 classes):"
   ]
  },
  {
   "cell_type": "code",
   "execution_count": 2,
   "metadata": {},
   "outputs": [],
   "source": [
    "color_map = [([  0,   0,   0], 19),\n",
    "             ([  0,  64,   0], 14),\n",
    "             ([  0, 128, 128], 22),\n",
    "             ([  0, 192,   0], 16),\n",
    "             ([  0, 255,   0], 10),\n",
    "             ([  0, 255, 255], 21),\n",
    "             ([ 51, 102,   0],  7),\n",
    "             ([104,  60, 192],  1),\n",
    "             ([128,   0,   0], 11),\n",
    "             ([128,   0, 128], 19),\n",
    "             ([128,  64,  64],  6),\n",
    "             ([128, 128,   0],  8),\n",
    "             ([128, 128, 128], 20),\n",
    "             ([128, 128, 255], 15),\n",
    "             ([192,  64,   0], 12),\n",
    "             ([192, 192, 255],  2),\n",
    "             ([255,   0,   0],  3),\n",
    "             ([255,   0, 153], 18),\n",
    "             ([255, 128,   0], 17),\n",
    "             ([255, 128, 128],  9),\n",
    "             ([255, 192, 128],  5),\n",
    "             ([255, 192, 192], 23),\n",
    "             ([255, 255,   0], 13),\n",
    "             ([255, 255, 255],  0)]"
   ]
  },
  {
   "cell_type": "markdown",
   "metadata": {},
   "source": [
    "The RGB values of the merged classification (the 4 classes):\n",
    "\n",
    "0: pores + background\n",
    "\n",
    "1: quartz\n",
    "\n",
    "2: albite\n",
    "\n",
    "3: clay + accessory minerals"
   ]
  },
  {
   "cell_type": "code",
   "execution_count": 3,
   "metadata": {},
   "outputs": [],
   "source": [
    "color_map_1 = [([  0,   0,   0], 3),\n",
    "               ([  0,  64,   0], 3),\n",
    "               ([  0, 128, 128], 3),\n",
    "               ([  0, 192,   0], 3),\n",
    "               ([  0, 255,   0], 3),\n",
    "               ([  0, 255, 255], 2),\n",
    "               ([ 51, 102,   0], 3),\n",
    "               ([104,  60, 192], 3),\n",
    "               ([128,   0,   0], 3),\n",
    "               ([128,   0, 128], 3),\n",
    "               ([128,  64,  64], 3),\n",
    "               ([128, 128,   0], 3),\n",
    "               ([128, 128, 128], 3),\n",
    "               ([128, 128, 255], 3),\n",
    "               ([192,  64,   0], 3),\n",
    "               ([192, 192, 255], 3),\n",
    "               ([255,   0,   0], 3),\n",
    "               ([255,   0, 153], 3),\n",
    "               ([255, 128,   0], 3),\n",
    "               ([255, 128, 128], 3),\n",
    "               ([255, 192, 128], 3),\n",
    "               ([255, 192, 192], 1),\n",
    "               ([255, 255,   0], 3),\n",
    "               ([255, 255, 255], 0)]"
   ]
  },
  {
   "cell_type": "code",
   "execution_count": 4,
   "metadata": {},
   "outputs": [
    {
     "name": "stderr",
     "output_type": "stream",
     "text": [
      "C:\\Users\\vladislav.alekseev\\AppData\\Local\\Continuum\\anaconda3\\lib\\site-packages\\skimage\\io\\_plugins\\matplotlib_plugin.py:150: UserWarning: Low image data range; displaying image with stretched contrast.\n",
      "  lo, hi, cmap = _get_display_range(image)\n"
     ]
    },
    {
     "data": {
      "image/png": "[encoded data removed]",
      "text/plain": [
       "<Figure size 432x288 with 2 Axes>"
      ]
     },
     "metadata": {
      "needs_background": "light"
     },
     "output_type": "display_data"
    }
   ],
   "source": [
    "colors = np.array([[  0,   0,   0],\n",
    "                   [  0,  64,   0],\n",
    "                   [  0, 128, 128],\n",
    "                   [  0, 192,   0],\n",
    "                   [  0, 255,   0],\n",
    "                   [  0, 255, 255],\n",
    "                   [ 51, 102,   0],\n",
    "                   [104,  60, 192],\n",
    "                   [128,   0,   0],\n",
    "                   [128,   0, 128],\n",
    "                   [128,  64,  64],\n",
    "                   [128, 128,   0],\n",
    "                   [128, 128, 128],\n",
    "                   [128, 128, 255],\n",
    "                   [192,  64,   0],\n",
    "                   [192, 192, 255],\n",
    "                   [255,   0,   0],\n",
    "                   [255,   0, 153],\n",
    "                   [255, 128,   0],\n",
    "                   [255, 128, 128],\n",
    "                   [255, 192, 128],\n",
    "                   [255, 192, 192],\n",
    "                   [255, 255,   0],\n",
    "                   [255, 255, 255]])\n",
    "\n",
    "def show_palette(colors):\n",
    "    from skimage import io \n",
    "    indices = np.arange(len(colors)).reshape((3, 8))\n",
    "    io.imshow(colors[indices])\n",
    "    \n",
    "show_palette(colors)"
   ]
  },
  {
   "cell_type": "code",
   "execution_count": 7,
   "metadata": {
    "scrolled": false
   },
   "outputs": [],
   "source": [
    "import glob\n",
    "from PIL import Image\n",
    "\n",
    "for filename in glob.glob('out_final/*.png'):\n",
    "    \n",
    "    img = cv2.imread(filename)\n",
    "    img = cv2.cvtColor(img, cv2.COLOR_BGR2RGB)\n",
    "    img_labels = np.zeros((img.shape[0], img.shape[1]), dtype=int)\n",
    "    \n",
    "    for color, label in color_map_1:\n",
    "    \n",
    "        label_mask = np.all(img==color, axis=2)\n",
    "        img_labels[label_mask] = label\n",
    "    \n",
    "    filename = filename[13:]\n",
    "    rescaled = (255. / 3 * (img_labels - 0)).astype(np.uint8)            \n",
    "    img = Image.fromarray(rescaled)\n",
    "    new_filename = 'labels_1_final/' + filename\n",
    "    img.save(new_filename)"
   ]
  },
  {
   "cell_type": "code",
   "execution_count": 8,
   "metadata": {},
   "outputs": [
    {
     "data": {
      "text/plain": [
       "array([  0,  85, 170, 255], dtype=uint8)"
      ]
     },
     "execution_count": 8,
     "metadata": {},
     "output_type": "execute_result"
    }
   ],
   "source": [
    "np.unique(np.asarray(Image.open('labels_1_final/'+filename)))"
   ]
  },
  {
   "cell_type": "code",
   "execution_count": 13,
   "metadata": {},
   "outputs": [
    {
     "data": {
      "text/plain": [
       "'img1_r2_c9.png'"
      ]
     },
     "execution_count": 13,
     "metadata": {},
     "output_type": "execute_result"
    }
   ],
   "source": [
    "filename"
   ]
  },
  {
   "cell_type": "code",
   "execution_count": 12,
   "metadata": {},
   "outputs": [],
   "source": [
    "import glob\n",
    "from PIL import Image\n",
    "\n",
    "for filename in glob.glob('out_random/*.png'):\n",
    "    \n",
    "    img = cv2.imread(filename)\n",
    "    img = cv2.cvtColor(img, cv2.COLOR_BGR2RGB)\n",
    "    img_labels = np.zeros((img.shape[0], img.shape[1]), dtype=int)\n",
    "    \n",
    "    for color, label in color_map_1:\n",
    "    \n",
    "        label_mask = np.all(img==color, axis=2)\n",
    "        img_labels[label_mask] = label\n",
    "    \n",
    "    filename = filename[13:]\n",
    "    \n",
    "    rescaled = (255.0 / 3 * (img_labels - 0)).astype(np.uint8)            \n",
    "    img = Image.fromarray(rescaled)\n",
    "    new_filename = 'labels_1_random/' + filename\n",
    "    img.save(new_filename)"
   ]
  },
  {
   "cell_type": "code",
   "execution_count": null,
   "metadata": {},
   "outputs": [],
   "source": []
  }
 ],
 "metadata": {
  "kernelspec": {
   "display_name": "Python 3",
   "language": "python",
   "name": "python3"
  },
  "language_info": {
   "codemirror_mode": {
    "name": "ipython",
    "version": 3
   },
   "file_extension": ".py",
   "mimetype": "text/x-python",
   "name": "python",
   "nbconvert_exporter": "python",
   "pygments_lexer": "ipython3",
   "version": "3.7.6"
  }
 },
 "nbformat": 4,
 "nbformat_minor": 2
}
